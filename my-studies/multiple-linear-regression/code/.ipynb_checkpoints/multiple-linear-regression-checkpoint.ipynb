{
 "cells": [
  {
   "cell_type": "code",
   "execution_count": 47,
   "id": "d73894bd",
   "metadata": {},
   "outputs": [],
   "source": [
    "import pandas as pd\n",
    "import numpy as np\n",
    "import matplotlib.pyplot as plt\n",
    "import seaborn as sns"
   ]
  },
  {
   "cell_type": "code",
   "execution_count": 48,
   "id": "a2f81491",
   "metadata": {},
   "outputs": [],
   "source": [
    "dataset = pd.read_csv('../data/insurance.csv')"
   ]
  },
  {
   "cell_type": "code",
   "execution_count": 49,
   "id": "3b52cf33",
   "metadata": {},
   "outputs": [
    {
     "data": {
      "text/html": [
       "<div>\n",
       "<style scoped>\n",
       "    .dataframe tbody tr th:only-of-type {\n",
       "        vertical-align: middle;\n",
       "    }\n",
       "\n",
       "    .dataframe tbody tr th {\n",
       "        vertical-align: top;\n",
       "    }\n",
       "\n",
       "    .dataframe thead th {\n",
       "        text-align: right;\n",
       "    }\n",
       "</style>\n",
       "<table border=\"1\" class=\"dataframe\">\n",
       "  <thead>\n",
       "    <tr style=\"text-align: right;\">\n",
       "      <th></th>\n",
       "      <th>age</th>\n",
       "      <th>sex</th>\n",
       "      <th>bmi</th>\n",
       "      <th>children</th>\n",
       "      <th>smoker</th>\n",
       "      <th>region</th>\n",
       "      <th>expenses</th>\n",
       "    </tr>\n",
       "  </thead>\n",
       "  <tbody>\n",
       "    <tr>\n",
       "      <th>0</th>\n",
       "      <td>19</td>\n",
       "      <td>female</td>\n",
       "      <td>27.9</td>\n",
       "      <td>0</td>\n",
       "      <td>yes</td>\n",
       "      <td>southwest</td>\n",
       "      <td>16884.92</td>\n",
       "    </tr>\n",
       "    <tr>\n",
       "      <th>1</th>\n",
       "      <td>18</td>\n",
       "      <td>male</td>\n",
       "      <td>33.8</td>\n",
       "      <td>1</td>\n",
       "      <td>no</td>\n",
       "      <td>southeast</td>\n",
       "      <td>1725.55</td>\n",
       "    </tr>\n",
       "    <tr>\n",
       "      <th>2</th>\n",
       "      <td>28</td>\n",
       "      <td>male</td>\n",
       "      <td>33.0</td>\n",
       "      <td>3</td>\n",
       "      <td>no</td>\n",
       "      <td>southeast</td>\n",
       "      <td>4449.46</td>\n",
       "    </tr>\n",
       "    <tr>\n",
       "      <th>3</th>\n",
       "      <td>33</td>\n",
       "      <td>male</td>\n",
       "      <td>22.7</td>\n",
       "      <td>0</td>\n",
       "      <td>no</td>\n",
       "      <td>northwest</td>\n",
       "      <td>21984.47</td>\n",
       "    </tr>\n",
       "    <tr>\n",
       "      <th>4</th>\n",
       "      <td>32</td>\n",
       "      <td>male</td>\n",
       "      <td>28.9</td>\n",
       "      <td>0</td>\n",
       "      <td>no</td>\n",
       "      <td>northwest</td>\n",
       "      <td>3866.86</td>\n",
       "    </tr>\n",
       "  </tbody>\n",
       "</table>\n",
       "</div>"
      ],
      "text/plain": [
       "   age     sex   bmi  children smoker     region  expenses\n",
       "0   19  female  27.9         0    yes  southwest  16884.92\n",
       "1   18    male  33.8         1     no  southeast   1725.55\n",
       "2   28    male  33.0         3     no  southeast   4449.46\n",
       "3   33    male  22.7         0     no  northwest  21984.47\n",
       "4   32    male  28.9         0     no  northwest   3866.86"
      ]
     },
     "execution_count": 49,
     "metadata": {},
     "output_type": "execute_result"
    }
   ],
   "source": [
    "dataset.head()"
   ]
  },
  {
   "cell_type": "markdown",
   "id": "a7844594",
   "metadata": {},
   "source": [
    "## explore the dataset"
   ]
  },
  {
   "cell_type": "code",
   "execution_count": 50,
   "id": "d33dc586",
   "metadata": {},
   "outputs": [
    {
     "data": {
      "text/html": [
       "<div>\n",
       "<style scoped>\n",
       "    .dataframe tbody tr th:only-of-type {\n",
       "        vertical-align: middle;\n",
       "    }\n",
       "\n",
       "    .dataframe tbody tr th {\n",
       "        vertical-align: top;\n",
       "    }\n",
       "\n",
       "    .dataframe thead th {\n",
       "        text-align: right;\n",
       "    }\n",
       "</style>\n",
       "<table border=\"1\" class=\"dataframe\">\n",
       "  <thead>\n",
       "    <tr style=\"text-align: right;\">\n",
       "      <th></th>\n",
       "      <th>age</th>\n",
       "      <th>bmi</th>\n",
       "      <th>children</th>\n",
       "      <th>expenses</th>\n",
       "    </tr>\n",
       "  </thead>\n",
       "  <tbody>\n",
       "    <tr>\n",
       "      <th>count</th>\n",
       "      <td>1338.000000</td>\n",
       "      <td>1338.000000</td>\n",
       "      <td>1338.000000</td>\n",
       "      <td>1338.000000</td>\n",
       "    </tr>\n",
       "    <tr>\n",
       "      <th>mean</th>\n",
       "      <td>39.207025</td>\n",
       "      <td>30.665471</td>\n",
       "      <td>1.094918</td>\n",
       "      <td>13270.422414</td>\n",
       "    </tr>\n",
       "    <tr>\n",
       "      <th>std</th>\n",
       "      <td>14.049960</td>\n",
       "      <td>6.098382</td>\n",
       "      <td>1.205493</td>\n",
       "      <td>12110.011240</td>\n",
       "    </tr>\n",
       "    <tr>\n",
       "      <th>min</th>\n",
       "      <td>18.000000</td>\n",
       "      <td>16.000000</td>\n",
       "      <td>0.000000</td>\n",
       "      <td>1121.870000</td>\n",
       "    </tr>\n",
       "    <tr>\n",
       "      <th>25%</th>\n",
       "      <td>27.000000</td>\n",
       "      <td>26.300000</td>\n",
       "      <td>0.000000</td>\n",
       "      <td>4740.287500</td>\n",
       "    </tr>\n",
       "    <tr>\n",
       "      <th>50%</th>\n",
       "      <td>39.000000</td>\n",
       "      <td>30.400000</td>\n",
       "      <td>1.000000</td>\n",
       "      <td>9382.030000</td>\n",
       "    </tr>\n",
       "    <tr>\n",
       "      <th>75%</th>\n",
       "      <td>51.000000</td>\n",
       "      <td>34.700000</td>\n",
       "      <td>2.000000</td>\n",
       "      <td>16639.915000</td>\n",
       "    </tr>\n",
       "    <tr>\n",
       "      <th>max</th>\n",
       "      <td>64.000000</td>\n",
       "      <td>53.100000</td>\n",
       "      <td>5.000000</td>\n",
       "      <td>63770.430000</td>\n",
       "    </tr>\n",
       "  </tbody>\n",
       "</table>\n",
       "</div>"
      ],
      "text/plain": [
       "               age          bmi     children      expenses\n",
       "count  1338.000000  1338.000000  1338.000000   1338.000000\n",
       "mean     39.207025    30.665471     1.094918  13270.422414\n",
       "std      14.049960     6.098382     1.205493  12110.011240\n",
       "min      18.000000    16.000000     0.000000   1121.870000\n",
       "25%      27.000000    26.300000     0.000000   4740.287500\n",
       "50%      39.000000    30.400000     1.000000   9382.030000\n",
       "75%      51.000000    34.700000     2.000000  16639.915000\n",
       "max      64.000000    53.100000     5.000000  63770.430000"
      ]
     },
     "execution_count": 50,
     "metadata": {},
     "output_type": "execute_result"
    }
   ],
   "source": [
    "dataset.describe()"
   ]
  },
  {
   "cell_type": "code",
   "execution_count": 51,
   "id": "5e56891c",
   "metadata": {},
   "outputs": [
    {
     "name": "stdout",
     "output_type": "stream",
     "text": [
      "<class 'pandas.core.frame.DataFrame'>\n",
      "RangeIndex: 1338 entries, 0 to 1337\n",
      "Data columns (total 7 columns):\n",
      " #   Column    Non-Null Count  Dtype  \n",
      "---  ------    --------------  -----  \n",
      " 0   age       1338 non-null   int64  \n",
      " 1   sex       1338 non-null   object \n",
      " 2   bmi       1338 non-null   float64\n",
      " 3   children  1338 non-null   int64  \n",
      " 4   smoker    1338 non-null   object \n",
      " 5   region    1338 non-null   object \n",
      " 6   expenses  1338 non-null   float64\n",
      "dtypes: float64(2), int64(2), object(3)\n",
      "memory usage: 73.3+ KB\n"
     ]
    }
   ],
   "source": [
    "dataset.info()"
   ]
  },
  {
   "cell_type": "markdown",
   "id": "e7e83f0f",
   "metadata": {},
   "source": [
    "### AGE"
   ]
  },
  {
   "cell_type": "code",
   "execution_count": 52,
   "id": "409523c3",
   "metadata": {},
   "outputs": [
    {
     "data": {
      "text/plain": [
       "{'whiskers': [<matplotlib.lines.Line2D at 0x29bf7684ca0>,\n",
       "  <matplotlib.lines.Line2D at 0x29bf7684f70>],\n",
       " 'caps': [<matplotlib.lines.Line2D at 0x29bf7694280>,\n",
       "  <matplotlib.lines.Line2D at 0x29bf7694550>],\n",
       " 'boxes': [<matplotlib.lines.Line2D at 0x29bf76849d0>],\n",
       " 'medians': [<matplotlib.lines.Line2D at 0x29bf7694820>],\n",
       " 'fliers': [<matplotlib.lines.Line2D at 0x29bf7694af0>],\n",
       " 'means': []}"
      ]
     },
     "execution_count": 52,
     "metadata": {},
     "output_type": "execute_result"
    },
    {
     "data": {
      "image/png": "[encoded data removed]",
      "text/plain": [
       "<Figure size 432x288 with 1 Axes>"
      ]
     },
     "metadata": {
      "needs_background": "light"
     },
     "output_type": "display_data"
    }
   ],
   "source": [
    "plt.boxplot(dataset['age'])"
   ]
  },
  {
   "cell_type": "code",
   "execution_count": 53,
   "id": "521f1871",
   "metadata": {},
   "outputs": [
    {
     "name": "stderr",
     "output_type": "stream",
     "text": [
      "C:\\Users\\Gabriel\\anaconda3\\lib\\site-packages\\seaborn\\distributions.py:2619: FutureWarning: `distplot` is a deprecated function and will be removed in a future version. Please adapt your code to use either `displot` (a figure-level function with similar flexibility) or `histplot` (an axes-level function for histograms).\n",
      "  warnings.warn(msg, FutureWarning)\n"
     ]
    },
    {
     "data": {
      "text/plain": [
       "<AxesSubplot:xlabel='age', ylabel='Density'>"
      ]
     },
     "execution_count": 53,
     "metadata": {},
     "output_type": "execute_result"
    },
    {
     "data": {
      "image/png": "[encoded data removed]",
      "text/plain": [
       "<Figure size 432x288 with 1 Axes>"
      ]
     },
     "metadata": {
      "needs_background": "light"
     },
     "output_type": "display_data"
    }
   ],
   "source": [
    "sns.distplot(dataset['age'].value_counts())"
   ]
  },
  {
   "cell_type": "markdown",
   "id": "2456971f",
   "metadata": {},
   "source": [
    "### SEX"
   ]
  },
  {
   "cell_type": "code",
   "execution_count": 54,
   "id": "59079056",
   "metadata": {},
   "outputs": [
    {
     "data": {
      "text/plain": [
       "male      676\n",
       "female    662\n",
       "Name: sex, dtype: int64"
      ]
     },
     "execution_count": 54,
     "metadata": {},
     "output_type": "execute_result"
    }
   ],
   "source": [
    "dataset['sex'].value_counts()"
   ]
  },
  {
   "cell_type": "code",
   "execution_count": 55,
   "id": "840db8e0",
   "metadata": {},
   "outputs": [
    {
     "data": {
      "text/plain": [
       "<AxesSubplot:>"
      ]
     },
     "execution_count": 55,
     "metadata": {},
     "output_type": "execute_result"
    },
    {
     "data": {
      "image/png": "[encoded data removed]",
      "text/plain": [
       "<Figure size 432x288 with 1 Axes>"
      ]
     },
     "metadata": {
      "needs_background": "light"
     },
     "output_type": "display_data"
    }
   ],
   "source": [
    "dataset['sex'].value_counts().plot(kind='bar')"
   ]
  },
  {
   "cell_type": "markdown",
   "id": "932cfa85",
   "metadata": {},
   "source": [
    "### BMI"
   ]
  },
  {
   "cell_type": "code",
   "execution_count": 56,
   "id": "65d222c3",
   "metadata": {},
   "outputs": [
    {
     "data": {
      "text/plain": [
       "27.6    17\n",
       "33.3    17\n",
       "28.9    16\n",
       "32.3    15\n",
       "29.8    14\n",
       "        ..\n",
       "39.0     1\n",
       "40.8     1\n",
       "20.3     1\n",
       "18.5     1\n",
       "53.1     1\n",
       "Name: bmi, Length: 275, dtype: int64"
      ]
     },
     "execution_count": 56,
     "metadata": {},
     "output_type": "execute_result"
    }
   ],
   "source": [
    "dataset['bmi'].value_counts()"
   ]
  },
  {
   "cell_type": "code",
   "execution_count": 57,
   "id": "a5f1e127",
   "metadata": {},
   "outputs": [
    {
     "name": "stderr",
     "output_type": "stream",
     "text": [
      "C:\\Users\\Gabriel\\anaconda3\\lib\\site-packages\\seaborn\\distributions.py:2619: FutureWarning: `distplot` is a deprecated function and will be removed in a future version. Please adapt your code to use either `displot` (a figure-level function with similar flexibility) or `histplot` (an axes-level function for histograms).\n",
      "  warnings.warn(msg, FutureWarning)\n"
     ]
    },
    {
     "data": {
      "text/plain": [
       "<AxesSubplot:xlabel='bmi', ylabel='Density'>"
      ]
     },
     "execution_count": 57,
     "metadata": {},
     "output_type": "execute_result"
    },
    {
     "data": {
      "image/png": "[encoded data removed]",
      "text/plain": [
       "<Figure size 432x288 with 1 Axes>"
      ]
     },
     "metadata": {
      "needs_background": "light"
     },
     "output_type": "display_data"
    }
   ],
   "source": [
    "sns.distplot(dataset['bmi'])"
   ]
  },
  {
   "cell_type": "markdown",
   "id": "47b433c1",
   "metadata": {},
   "source": [
    "### CHILDREN"
   ]
  },
  {
   "cell_type": "code",
   "execution_count": 58,
   "id": "dd865321",
   "metadata": {},
   "outputs": [
    {
     "data": {
      "text/plain": [
       "<AxesSubplot:>"
      ]
     },
     "execution_count": 58,
     "metadata": {},
     "output_type": "execute_result"
    },
    {
     "data": {
      "image/png": "[encoded data removed]",
      "text/plain": [
       "<Figure size 432x288 with 1 Axes>"
      ]
     },
     "metadata": {
      "needs_background": "light"
     },
     "output_type": "display_data"
    }
   ],
   "source": [
    "dataset['children'].value_counts().plot(kind='bar')"
   ]
  },
  {
   "cell_type": "markdown",
   "id": "1f99dfd4",
   "metadata": {},
   "source": [
    "### SMOKER"
   ]
  },
  {
   "cell_type": "code",
   "execution_count": 59,
   "id": "04430863",
   "metadata": {},
   "outputs": [
    {
     "data": {
      "text/plain": [
       "<AxesSubplot:>"
      ]
     },
     "execution_count": 59,
     "metadata": {},
     "output_type": "execute_result"
    },
    {
     "data": {
      "image/png": "[encoded data removed]",
      "text/plain": [
       "<Figure size 432x288 with 1 Axes>"
      ]
     },
     "metadata": {
      "needs_background": "light"
     },
     "output_type": "display_data"
    }
   ],
   "source": [
    "dataset['smoker'].value_counts().plot(kind='bar')"
   ]
  },
  {
   "cell_type": "markdown",
   "id": "5c2114d8",
   "metadata": {},
   "source": [
    "### REGION"
   ]
  },
  {
   "cell_type": "code",
   "execution_count": 60,
   "id": "0b7850c3",
   "metadata": {},
   "outputs": [
    {
     "data": {
      "text/plain": [
       "southeast    364\n",
       "southwest    325\n",
       "northwest    325\n",
       "northeast    324\n",
       "Name: region, dtype: int64"
      ]
     },
     "execution_count": 60,
     "metadata": {},
     "output_type": "execute_result"
    }
   ],
   "source": [
    "dataset['region'].value_counts()"
   ]
  },
  {
   "cell_type": "code",
   "execution_count": 61,
   "id": "5466431e",
   "metadata": {},
   "outputs": [
    {
     "data": {
      "text/plain": [
       "<AxesSubplot:>"
      ]
     },
     "execution_count": 61,
     "metadata": {},
     "output_type": "execute_result"
    },
    {
     "data": {
      "image/png": "[encoded data removed]",
      "text/plain": [
       "<Figure size 432x288 with 1 Axes>"
      ]
     },
     "metadata": {
      "needs_background": "light"
     },
     "output_type": "display_data"
    }
   ],
   "source": [
    "dataset['region'].value_counts().plot(kind='bar')"
   ]
  },
  {
   "cell_type": "markdown",
   "id": "17e30a7c",
   "metadata": {},
   "source": [
    "### EXPENSES"
   ]
  },
  {
   "cell_type": "code",
   "execution_count": 62,
   "id": "f00a7bf1",
   "metadata": {},
   "outputs": [
    {
     "name": "stderr",
     "output_type": "stream",
     "text": [
      "C:\\Users\\Gabriel\\anaconda3\\lib\\site-packages\\seaborn\\distributions.py:2619: FutureWarning: `distplot` is a deprecated function and will be removed in a future version. Please adapt your code to use either `displot` (a figure-level function with similar flexibility) or `histplot` (an axes-level function for histograms).\n",
      "  warnings.warn(msg, FutureWarning)\n"
     ]
    },
    {
     "data": {
      "text/plain": [
       "<AxesSubplot:xlabel='expenses', ylabel='Density'>"
      ]
     },
     "execution_count": 62,
     "metadata": {},
     "output_type": "execute_result"
    },
    {
     "data": {
      "image/png": "[encoded data removed]",
      "text/plain": [
       "<Figure size 432x288 with 1 Axes>"
      ]
     },
     "metadata": {
      "needs_background": "light"
     },
     "output_type": "display_data"
    }
   ],
   "source": [
    "sns.distplot(dataset['expenses'])"
   ]
  },
  {
   "cell_type": "markdown",
   "id": "6d730ece",
   "metadata": {},
   "source": [
    "## SEE HOW DEPENDENT IS RELATED TO INDEPENDENT VARIABLE"
   ]
  },
  {
   "cell_type": "code",
   "execution_count": 63,
   "id": "5d82b007",
   "metadata": {},
   "outputs": [
    {
     "name": "stderr",
     "output_type": "stream",
     "text": [
      "C:\\Users\\Gabriel\\anaconda3\\lib\\site-packages\\seaborn\\_decorators.py:36: FutureWarning: Pass the following variables as keyword args: x, y. From version 0.12, the only valid positional argument will be `data`, and passing other arguments without an explicit keyword will result in an error or misinterpretation.\n",
      "  warnings.warn(\n",
      "C:\\Users\\Gabriel\\anaconda3\\lib\\site-packages\\seaborn\\_decorators.py:36: FutureWarning: Pass the following variables as keyword args: x, y. From version 0.12, the only valid positional argument will be `data`, and passing other arguments without an explicit keyword will result in an error or misinterpretation.\n",
      "  warnings.warn(\n",
      "C:\\Users\\Gabriel\\anaconda3\\lib\\site-packages\\seaborn\\_decorators.py:36: FutureWarning: Pass the following variables as keyword args: x, y. From version 0.12, the only valid positional argument will be `data`, and passing other arguments without an explicit keyword will result in an error or misinterpretation.\n",
      "  warnings.warn(\n"
     ]
    },
    {
     "data": {
      "text/plain": [
       "<AxesSubplot:xlabel='expenses', ylabel='expenses'>"
      ]
     },
     "execution_count": 63,
     "metadata": {},
     "output_type": "execute_result"
    },
    {
     "data": {
      "image/png": "[encoded data removed]",
      "text/plain": [
       "<Figure size 864x1080 with 6 Axes>"
      ]
     },
     "metadata": {
      "needs_background": "light"
     },
     "output_type": "display_data"
    }
   ],
   "source": [
    "plt.subplots(nrows=3, ncols=2, constrained_layout = True,figsize=(12,15))\n",
    "plt.subplot(3,2,1)\n",
    "plt.title('Age x Expense')\n",
    "plt.scatter(x=dataset['age'],y=dataset['expenses'])\n",
    "plt.subplot(3,2,2)\n",
    "plt.title('Sex x Expense')\n",
    "dataset['sex'].value_counts().plot(kind='bar')\n",
    "plt.subplot(3,2,3)\n",
    "plt.title('bmi x Expense')\n",
    "plt.scatter(x=dataset['bmi'],y=dataset['expenses'])\n",
    "plt.subplot(3,2,4)\n",
    "plt.title('Children x Expense')\n",
    "sns.scatterplot('expenses','expenses', data=dataset, hue='children', size=70)\n",
    "plt.subplot(3,2,5)\n",
    "plt.title('Smoker x Expense')\n",
    "sns.scatterplot('expenses','expenses', data=dataset, hue='smoker', size=70)\n",
    "plt.title('Region x Expense')\n",
    "plt.subplot(3,2,6)\n",
    "sns.scatterplot('expenses','expenses', data=dataset, hue='region', size=1)"
   ]
  },
  {
   "cell_type": "markdown",
   "id": "ff755bfb",
   "metadata": {},
   "source": [
    "## TRAIN TEST SPLIT"
   ]
  },
  {
   "cell_type": "code",
   "execution_count": 64,
   "id": "715c7178",
   "metadata": {},
   "outputs": [],
   "source": [
    "X = dataset.drop('expenses',axis=1)"
   ]
  },
  {
   "cell_type": "code",
   "execution_count": 65,
   "id": "725500ec",
   "metadata": {},
   "outputs": [],
   "source": [
    "x_columns = X.columns"
   ]
  },
  {
   "cell_type": "markdown",
   "id": "37950d1d",
   "metadata": {},
   "source": [
    "## ENCODER"
   ]
  },
  {
   "cell_type": "code",
   "execution_count": 66,
   "id": "e8e0d45f",
   "metadata": {},
   "outputs": [],
   "source": [
    "sex_encoder = pd.get_dummies(dataset.sex, prefix='sex')\n",
    "#sex_encoder"
   ]
  },
  {
   "cell_type": "code",
   "execution_count": 67,
   "id": "5c55c333",
   "metadata": {},
   "outputs": [],
   "source": [
    "smoker_encoder =  pd.get_dummies(dataset.smoker, prefix='smoker')\n",
    "#smoker_encoder"
   ]
  },
  {
   "cell_type": "code",
   "execution_count": 68,
   "id": "71648aa1",
   "metadata": {},
   "outputs": [],
   "source": [
    "region_encoder =  pd.get_dummies(dataset.region, prefix='region')\n",
    "#region_encoder"
   ]
  },
  {
   "cell_type": "code",
   "execution_count": 69,
   "id": "f1e8739e",
   "metadata": {},
   "outputs": [],
   "source": [
    "X = X.join(sex_encoder)\n",
    "X = X.join(smoker_encoder)\n",
    "X = X.join(region_encoder)"
   ]
  },
  {
   "cell_type": "code",
   "execution_count": 70,
   "id": "5179be38",
   "metadata": {},
   "outputs": [],
   "source": [
    "#X"
   ]
  },
  {
   "cell_type": "code",
   "execution_count": 71,
   "id": "2acba2f0",
   "metadata": {},
   "outputs": [],
   "source": [
    "X.drop(columns=['sex','smoker','region'],axis=1,inplace=True)"
   ]
  },
  {
   "cell_type": "code",
   "execution_count": 72,
   "id": "b183a014",
   "metadata": {},
   "outputs": [],
   "source": [
    "#X"
   ]
  },
  {
   "cell_type": "code",
   "execution_count": 73,
   "id": "1f6acc2f",
   "metadata": {},
   "outputs": [
    {
     "data": {
      "text/html": [
       "<div>\n",
       "<style scoped>\n",
       "    .dataframe tbody tr th:only-of-type {\n",
       "        vertical-align: middle;\n",
       "    }\n",
       "\n",
       "    .dataframe tbody tr th {\n",
       "        vertical-align: top;\n",
       "    }\n",
       "\n",
       "    .dataframe thead th {\n",
       "        text-align: right;\n",
       "    }\n",
       "</style>\n",
       "<table border=\"1\" class=\"dataframe\">\n",
       "  <thead>\n",
       "    <tr style=\"text-align: right;\">\n",
       "      <th></th>\n",
       "      <th>expenses</th>\n",
       "    </tr>\n",
       "  </thead>\n",
       "  <tbody>\n",
       "    <tr>\n",
       "      <th>0</th>\n",
       "      <td>16884.92</td>\n",
       "    </tr>\n",
       "    <tr>\n",
       "      <th>1</th>\n",
       "      <td>1725.55</td>\n",
       "    </tr>\n",
       "    <tr>\n",
       "      <th>2</th>\n",
       "      <td>4449.46</td>\n",
       "    </tr>\n",
       "    <tr>\n",
       "      <th>3</th>\n",
       "      <td>21984.47</td>\n",
       "    </tr>\n",
       "    <tr>\n",
       "      <th>4</th>\n",
       "      <td>3866.86</td>\n",
       "    </tr>\n",
       "    <tr>\n",
       "      <th>...</th>\n",
       "      <td>...</td>\n",
       "    </tr>\n",
       "    <tr>\n",
       "      <th>1333</th>\n",
       "      <td>10600.55</td>\n",
       "    </tr>\n",
       "    <tr>\n",
       "      <th>1334</th>\n",
       "      <td>2205.98</td>\n",
       "    </tr>\n",
       "    <tr>\n",
       "      <th>1335</th>\n",
       "      <td>1629.83</td>\n",
       "    </tr>\n",
       "    <tr>\n",
       "      <th>1336</th>\n",
       "      <td>2007.95</td>\n",
       "    </tr>\n",
       "    <tr>\n",
       "      <th>1337</th>\n",
       "      <td>29141.36</td>\n",
       "    </tr>\n",
       "  </tbody>\n",
       "</table>\n",
       "<p>1338 rows × 1 columns</p>\n",
       "</div>"
      ],
      "text/plain": [
       "      expenses\n",
       "0     16884.92\n",
       "1      1725.55\n",
       "2      4449.46\n",
       "3     21984.47\n",
       "4      3866.86\n",
       "...        ...\n",
       "1333  10600.55\n",
       "1334   2205.98\n",
       "1335   1629.83\n",
       "1336   2007.95\n",
       "1337  29141.36\n",
       "\n",
       "[1338 rows x 1 columns]"
      ]
     },
     "execution_count": 73,
     "metadata": {},
     "output_type": "execute_result"
    }
   ],
   "source": [
    "Y = dataset.drop(columns=x_columns,axis=1)\n",
    "Y"
   ]
  },
  {
   "cell_type": "code",
   "execution_count": 74,
   "id": "93e35cb3",
   "metadata": {},
   "outputs": [],
   "source": [
    "SEED = 123\n",
    "np.random.seed(SEED)"
   ]
  },
  {
   "cell_type": "code",
   "execution_count": 75,
   "id": "7d571ea4",
   "metadata": {},
   "outputs": [],
   "source": [
    "from sklearn.model_selection import train_test_split\n",
    "X_train, X_test,Y_train,Y_test = train_test_split(X,Y,test_size=0.2)"
   ]
  },
  {
   "cell_type": "code",
   "execution_count": 76,
   "id": "be9e69fc",
   "metadata": {},
   "outputs": [
    {
     "data": {
      "text/html": [
       "<div>\n",
       "<style scoped>\n",
       "    .dataframe tbody tr th:only-of-type {\n",
       "        vertical-align: middle;\n",
       "    }\n",
       "\n",
       "    .dataframe tbody tr th {\n",
       "        vertical-align: top;\n",
       "    }\n",
       "\n",
       "    .dataframe thead th {\n",
       "        text-align: right;\n",
       "    }\n",
       "</style>\n",
       "<table border=\"1\" class=\"dataframe\">\n",
       "  <thead>\n",
       "    <tr style=\"text-align: right;\">\n",
       "      <th></th>\n",
       "      <th>age</th>\n",
       "      <th>bmi</th>\n",
       "      <th>children</th>\n",
       "      <th>sex_female</th>\n",
       "      <th>sex_male</th>\n",
       "      <th>smoker_no</th>\n",
       "      <th>smoker_yes</th>\n",
       "      <th>region_northeast</th>\n",
       "      <th>region_northwest</th>\n",
       "      <th>region_southeast</th>\n",
       "      <th>region_southwest</th>\n",
       "    </tr>\n",
       "  </thead>\n",
       "  <tbody>\n",
       "    <tr>\n",
       "      <th>67</th>\n",
       "      <td>40</td>\n",
       "      <td>26.3</td>\n",
       "      <td>1</td>\n",
       "      <td>0</td>\n",
       "      <td>1</td>\n",
       "      <td>1</td>\n",
       "      <td>0</td>\n",
       "      <td>0</td>\n",
       "      <td>1</td>\n",
       "      <td>0</td>\n",
       "      <td>0</td>\n",
       "    </tr>\n",
       "    <tr>\n",
       "      <th>736</th>\n",
       "      <td>37</td>\n",
       "      <td>38.4</td>\n",
       "      <td>0</td>\n",
       "      <td>1</td>\n",
       "      <td>0</td>\n",
       "      <td>0</td>\n",
       "      <td>1</td>\n",
       "      <td>0</td>\n",
       "      <td>0</td>\n",
       "      <td>1</td>\n",
       "      <td>0</td>\n",
       "    </tr>\n",
       "    <tr>\n",
       "      <th>310</th>\n",
       "      <td>50</td>\n",
       "      <td>26.6</td>\n",
       "      <td>0</td>\n",
       "      <td>0</td>\n",
       "      <td>1</td>\n",
       "      <td>1</td>\n",
       "      <td>0</td>\n",
       "      <td>0</td>\n",
       "      <td>0</td>\n",
       "      <td>0</td>\n",
       "      <td>1</td>\n",
       "    </tr>\n",
       "    <tr>\n",
       "      <th>963</th>\n",
       "      <td>46</td>\n",
       "      <td>24.8</td>\n",
       "      <td>3</td>\n",
       "      <td>0</td>\n",
       "      <td>1</td>\n",
       "      <td>1</td>\n",
       "      <td>0</td>\n",
       "      <td>1</td>\n",
       "      <td>0</td>\n",
       "      <td>0</td>\n",
       "      <td>0</td>\n",
       "    </tr>\n",
       "    <tr>\n",
       "      <th>680</th>\n",
       "      <td>21</td>\n",
       "      <td>17.4</td>\n",
       "      <td>1</td>\n",
       "      <td>1</td>\n",
       "      <td>0</td>\n",
       "      <td>1</td>\n",
       "      <td>0</td>\n",
       "      <td>0</td>\n",
       "      <td>0</td>\n",
       "      <td>0</td>\n",
       "      <td>1</td>\n",
       "    </tr>\n",
       "    <tr>\n",
       "      <th>...</th>\n",
       "      <td>...</td>\n",
       "      <td>...</td>\n",
       "      <td>...</td>\n",
       "      <td>...</td>\n",
       "      <td>...</td>\n",
       "      <td>...</td>\n",
       "      <td>...</td>\n",
       "      <td>...</td>\n",
       "      <td>...</td>\n",
       "      <td>...</td>\n",
       "      <td>...</td>\n",
       "    </tr>\n",
       "    <tr>\n",
       "      <th>1238</th>\n",
       "      <td>37</td>\n",
       "      <td>22.7</td>\n",
       "      <td>3</td>\n",
       "      <td>0</td>\n",
       "      <td>1</td>\n",
       "      <td>1</td>\n",
       "      <td>0</td>\n",
       "      <td>1</td>\n",
       "      <td>0</td>\n",
       "      <td>0</td>\n",
       "      <td>0</td>\n",
       "    </tr>\n",
       "    <tr>\n",
       "      <th>1147</th>\n",
       "      <td>20</td>\n",
       "      <td>31.9</td>\n",
       "      <td>0</td>\n",
       "      <td>1</td>\n",
       "      <td>0</td>\n",
       "      <td>1</td>\n",
       "      <td>0</td>\n",
       "      <td>0</td>\n",
       "      <td>1</td>\n",
       "      <td>0</td>\n",
       "      <td>0</td>\n",
       "    </tr>\n",
       "    <tr>\n",
       "      <th>106</th>\n",
       "      <td>19</td>\n",
       "      <td>28.4</td>\n",
       "      <td>1</td>\n",
       "      <td>1</td>\n",
       "      <td>0</td>\n",
       "      <td>1</td>\n",
       "      <td>0</td>\n",
       "      <td>0</td>\n",
       "      <td>0</td>\n",
       "      <td>0</td>\n",
       "      <td>1</td>\n",
       "    </tr>\n",
       "    <tr>\n",
       "      <th>1041</th>\n",
       "      <td>18</td>\n",
       "      <td>23.1</td>\n",
       "      <td>0</td>\n",
       "      <td>0</td>\n",
       "      <td>1</td>\n",
       "      <td>1</td>\n",
       "      <td>0</td>\n",
       "      <td>1</td>\n",
       "      <td>0</td>\n",
       "      <td>0</td>\n",
       "      <td>0</td>\n",
       "    </tr>\n",
       "    <tr>\n",
       "      <th>1122</th>\n",
       "      <td>53</td>\n",
       "      <td>36.9</td>\n",
       "      <td>3</td>\n",
       "      <td>1</td>\n",
       "      <td>0</td>\n",
       "      <td>0</td>\n",
       "      <td>1</td>\n",
       "      <td>0</td>\n",
       "      <td>1</td>\n",
       "      <td>0</td>\n",
       "      <td>0</td>\n",
       "    </tr>\n",
       "  </tbody>\n",
       "</table>\n",
       "<p>1070 rows × 11 columns</p>\n",
       "</div>"
      ],
      "text/plain": [
       "      age   bmi  children  sex_female  sex_male  smoker_no  smoker_yes  \\\n",
       "67     40  26.3         1           0         1          1           0   \n",
       "736    37  38.4         0           1         0          0           1   \n",
       "310    50  26.6         0           0         1          1           0   \n",
       "963    46  24.8         3           0         1          1           0   \n",
       "680    21  17.4         1           1         0          1           0   \n",
       "...   ...   ...       ...         ...       ...        ...         ...   \n",
       "1238   37  22.7         3           0         1          1           0   \n",
       "1147   20  31.9         0           1         0          1           0   \n",
       "106    19  28.4         1           1         0          1           0   \n",
       "1041   18  23.1         0           0         1          1           0   \n",
       "1122   53  36.9         3           1         0          0           1   \n",
       "\n",
       "      region_northeast  region_northwest  region_southeast  region_southwest  \n",
       "67                   0                 1                 0                 0  \n",
       "736                  0                 0                 1                 0  \n",
       "310                  0                 0                 0                 1  \n",
       "963                  1                 0                 0                 0  \n",
       "680                  0                 0                 0                 1  \n",
       "...                ...               ...               ...               ...  \n",
       "1238                 1                 0                 0                 0  \n",
       "1147                 0                 1                 0                 0  \n",
       "106                  0                 0                 0                 1  \n",
       "1041                 1                 0                 0                 0  \n",
       "1122                 0                 1                 0                 0  \n",
       "\n",
       "[1070 rows x 11 columns]"
      ]
     },
     "execution_count": 76,
     "metadata": {},
     "output_type": "execute_result"
    }
   ],
   "source": [
    "X_train"
   ]
  },
  {
   "cell_type": "markdown",
   "id": "e6b31903",
   "metadata": {},
   "source": [
    "## IMPORT THE MODEL"
   ]
  },
  {
   "cell_type": "code",
   "execution_count": 77,
   "id": "c39ffead",
   "metadata": {},
   "outputs": [],
   "source": [
    "from sklearn.linear_model import LinearRegression\n",
    "reg = LinearRegression()"
   ]
  },
  {
   "cell_type": "markdown",
   "id": "c7497455",
   "metadata": {},
   "source": [
    "# TRAINING 1"
   ]
  },
  {
   "cell_type": "code",
   "execution_count": 78,
   "id": "e6550b83",
   "metadata": {},
   "outputs": [
    {
     "data": {
      "text/html": [
       "<style>#sk-container-id-3 {color: black;background-color: white;}#sk-container-id-3 pre{padding: 0;}#sk-container-id-3 div.sk-toggleable {background-color: white;}#sk-container-id-3 label.sk-toggleable__label {cursor: pointer;display: block;width: 100%;margin-bottom: 0;padding: 0.3em;box-sizing: border-box;text-align: center;}#sk-container-id-3 label.sk-toggleable__label-arrow:before {content: \"▸\";float: left;margin-right: 0.25em;color: #696969;}#sk-container-id-3 label.sk-toggleable__label-arrow:hover:before {color: black;}#sk-container-id-3 div.sk-estimator:hover label.sk-toggleable__label-arrow:before {color: black;}#sk-container-id-3 div.sk-toggleable__content {max-height: 0;max-width: 0;overflow: hidden;text-align: left;background-color: #f0f8ff;}#sk-container-id-3 div.sk-toggleable__content pre {margin: 0.2em;color: black;border-radius: 0.25em;background-color: #f0f8ff;}#sk-container-id-3 input.sk-toggleable__control:checked~div.sk-toggleable__content {max-height: 200px;max-width: 100%;overflow: auto;}#sk-container-id-3 input.sk-toggleable__control:checked~label.sk-toggleable__label-arrow:before {content: \"▾\";}#sk-container-id-3 div.sk-estimator input.sk-toggleable__control:checked~label.sk-toggleable__label {background-color: #d4ebff;}#sk-container-id-3 div.sk-label input.sk-toggleable__control:checked~label.sk-toggleable__label {background-color: #d4ebff;}#sk-container-id-3 input.sk-hidden--visually {border: 0;clip: rect(1px 1px 1px 1px);clip: rect(1px, 1px, 1px, 1px);height: 1px;margin: -1px;overflow: hidden;padding: 0;position: absolute;width: 1px;}#sk-container-id-3 div.sk-estimator {font-family: monospace;background-color: #f0f8ff;border: 1px dotted black;border-radius: 0.25em;box-sizing: border-box;margin-bottom: 0.5em;}#sk-container-id-3 div.sk-estimator:hover {background-color: #d4ebff;}#sk-container-id-3 div.sk-parallel-item::after {content: \"\";width: 100%;border-bottom: 1px solid gray;flex-grow: 1;}#sk-container-id-3 div.sk-label:hover label.sk-toggleable__label {background-color: #d4ebff;}#sk-container-id-3 div.sk-serial::before {content: \"\";position: absolute;border-left: 1px solid gray;box-sizing: border-box;top: 0;bottom: 0;left: 50%;z-index: 0;}#sk-container-id-3 div.sk-serial {display: flex;flex-direction: column;align-items: center;background-color: white;padding-right: 0.2em;padding-left: 0.2em;position: relative;}#sk-container-id-3 div.sk-item {position: relative;z-index: 1;}#sk-container-id-3 div.sk-parallel {display: flex;align-items: stretch;justify-content: center;background-color: white;position: relative;}#sk-container-id-3 div.sk-item::before, #sk-container-id-3 div.sk-parallel-item::before {content: \"\";position: absolute;border-left: 1px solid gray;box-sizing: border-box;top: 0;bottom: 0;left: 50%;z-index: -1;}#sk-container-id-3 div.sk-parallel-item {display: flex;flex-direction: column;z-index: 1;position: relative;background-color: white;}#sk-container-id-3 div.sk-parallel-item:first-child::after {align-self: flex-end;width: 50%;}#sk-container-id-3 div.sk-parallel-item:last-child::after {align-self: flex-start;width: 50%;}#sk-container-id-3 div.sk-parallel-item:only-child::after {width: 0;}#sk-container-id-3 div.sk-dashed-wrapped {border: 1px dashed gray;margin: 0 0.4em 0.5em 0.4em;box-sizing: border-box;padding-bottom: 0.4em;background-color: white;}#sk-container-id-3 div.sk-label label {font-family: monospace;font-weight: bold;display: inline-block;line-height: 1.2em;}#sk-container-id-3 div.sk-label-container {text-align: center;}#sk-container-id-3 div.sk-container {/* jupyter's `normalize.less` sets `[hidden] { display: none; }` but bootstrap.min.css set `[hidden] { display: none !important; }` so we also need the `!important` here to be able to override the default hidden behavior on the sphinx rendered scikit-learn.org. See: https://github.com/scikit-learn/scikit-learn/issues/21755 */display: inline-block !important;position: relative;}#sk-container-id-3 div.sk-text-repr-fallback {display: none;}</style><div id=\"sk-container-id-3\" class=\"sk-top-container\"><div class=\"sk-text-repr-fallback\"><pre>LinearRegression()</pre><b>In a Jupyter environment, please rerun this cell to show the HTML representation or trust the notebook. <br />On GitHub, the HTML representation is unable to render, please try loading this page with nbviewer.org.</b></div><div class=\"sk-container\" hidden><div class=\"sk-item\"><div class=\"sk-estimator sk-toggleable\"><input class=\"sk-toggleable__control sk-hidden--visually\" id=\"sk-estimator-id-3\" type=\"checkbox\" checked><label for=\"sk-estimator-id-3\" class=\"sk-toggleable__label sk-toggleable__label-arrow\">LinearRegression</label><div class=\"sk-toggleable__content\"><pre>LinearRegression()</pre></div></div></div></div></div>"
      ],
      "text/plain": [
       "LinearRegression()"
      ]
     },
     "execution_count": 78,
     "metadata": {},
     "output_type": "execute_result"
    }
   ],
   "source": [
    "reg.fit(X_train,Y_train)"
   ]
  },
  {
   "cell_type": "code",
   "execution_count": 79,
   "id": "348f7fe7",
   "metadata": {},
   "outputs": [
    {
     "name": "stdout",
     "output_type": "stream",
     "text": [
      "[[ 1.51980308e+04]\n",
      " [ 9.50058243e+03]\n",
      " [ 2.83060271e+04]\n",
      " [ 5.32399048e+03]\n",
      " [ 1.11961952e+04]\n",
      " [ 1.09359581e+04]\n",
      " [ 2.81993627e+03]\n",
      " [ 2.37036822e+03]\n",
      " [ 4.25830342e+03]\n",
      " [ 8.79907351e+03]\n",
      " [ 8.72462521e+03]\n",
      " [ 1.35305841e+04]\n",
      " [ 1.34313173e+04]\n",
      " [ 2.96844392e+04]\n",
      " [ 1.36907462e+04]\n",
      " [ 3.08358435e+04]\n",
      " [ 1.51858152e+04]\n",
      " [ 1.78357284e+03]\n",
      " [ 3.35302584e+04]\n",
      " [ 3.65034735e+04]\n",
      " [ 3.33350345e+04]\n",
      " [ 4.06834089e+04]\n",
      " [ 3.16484561e+03]\n",
      " [ 1.01807302e+04]\n",
      " [-3.98639341e+01]\n",
      " [ 9.54204546e+03]\n",
      " [ 1.60604772e+04]\n",
      " [ 6.73017461e+03]\n",
      " [ 1.46170492e+04]\n",
      " [-4.86058969e+02]\n",
      " [ 9.34251314e+03]\n",
      " [ 1.64676954e+04]\n",
      " [ 5.45392257e+03]\n",
      " [ 3.93302668e+03]\n",
      " [ 6.66753690e+03]\n",
      " [ 1.15595550e+04]\n",
      " [ 1.78157588e+04]\n",
      " [ 6.80680935e+03]\n",
      " [ 9.96911443e+03]\n",
      " [ 1.15167741e+04]\n",
      " [ 7.06757494e+03]\n",
      " [ 7.69729490e+03]\n",
      " [ 5.42401254e+03]\n",
      " [ 3.16890142e+04]\n",
      " [ 7.30784463e+03]\n",
      " [ 2.17962854e+03]\n",
      " [ 1.31297659e+04]\n",
      " [ 1.38535475e+04]\n",
      " [ 1.45513214e+04]\n",
      " [ 9.10843735e+03]\n",
      " [ 1.27716139e+04]\n",
      " [ 1.08686142e+04]\n",
      " [ 2.72835018e+04]\n",
      " [ 1.14827040e+04]\n",
      " [ 1.43699259e+04]\n",
      " [ 6.46039522e+03]\n",
      " [ 3.17835895e+04]\n",
      " [ 2.78820360e+04]\n",
      " [ 3.82541742e+04]\n",
      " [ 6.32064904e+03]\n",
      " [ 1.62637178e+04]\n",
      " [ 9.28864094e+03]\n",
      " [ 3.78306481e+04]\n",
      " [ 2.80134348e+04]\n",
      " [ 1.73169500e+03]\n",
      " [ 4.22859045e+03]\n",
      " [ 1.78554141e+04]\n",
      " [ 5.45441470e+03]\n",
      " [ 1.56405731e+04]\n",
      " [ 1.48725947e+04]\n",
      " [ 1.07775569e+04]\n",
      " [ 1.13298824e+04]\n",
      " [ 1.62699730e+04]\n",
      " [ 1.65741977e+04]\n",
      " [ 1.14871071e+04]\n",
      " [ 3.16562099e+04]\n",
      " [ 3.89802313e+03]\n",
      " [ 1.42801742e+04]\n",
      " [ 5.35131958e+03]\n",
      " [ 3.06838848e+04]\n",
      " [ 2.21250379e+03]\n",
      " [ 3.09367574e+04]\n",
      " [ 2.79456939e+04]\n",
      " [ 1.50898298e+04]\n",
      " [ 2.61335317e+03]\n",
      " [ 1.63313266e+04]\n",
      " [ 2.86587156e+04]\n",
      " [ 1.32811313e+04]\n",
      " [ 1.06055754e+04]\n",
      " [ 3.90387875e+04]\n",
      " [ 9.87260364e+03]\n",
      " [ 8.99365202e+03]\n",
      " [ 8.66332412e+03]\n",
      " [ 6.42304935e+03]\n",
      " [-4.61715929e+01]\n",
      " [ 2.77748450e+03]\n",
      " [ 6.43941938e+03]\n",
      " [ 8.35331451e+03]\n",
      " [ 4.19147623e+03]\n",
      " [ 3.64054163e+03]\n",
      " [ 1.13314646e+04]\n",
      " [ 8.93874876e+03]\n",
      " [ 1.32960452e+04]\n",
      " [ 6.58176707e+03]\n",
      " [ 7.47920871e+03]\n",
      " [ 3.43741208e+03]\n",
      " [ 2.74877776e+04]\n",
      " [ 8.05198995e+03]\n",
      " [ 1.32265775e+04]\n",
      " [ 8.58026797e+03]\n",
      " [ 4.72788578e+03]\n",
      " [ 3.68008161e+04]\n",
      " [ 3.11831806e+04]\n",
      " [ 1.34833909e+04]\n",
      " [ 3.10424909e+04]\n",
      " [ 1.32306089e+04]\n",
      " [ 7.90180096e+03]\n",
      " [ 9.56888244e+03]\n",
      " [ 1.29664974e+04]\n",
      " [ 7.51221571e+03]\n",
      " [ 3.78312557e+04]\n",
      " [ 2.65876211e+04]\n",
      " [ 5.27597457e+03]\n",
      " [ 1.13830869e+04]\n",
      " [ 5.59251378e+03]\n",
      " [ 4.13772710e+03]\n",
      " [ 3.29313245e+04]\n",
      " [ 7.58513344e+03]\n",
      " [ 3.73182449e+04]\n",
      " [ 3.65131955e+04]\n",
      " [ 4.62861936e+03]\n",
      " [ 6.32169939e+03]\n",
      " [-2.53596478e+02]\n",
      " [ 1.42364134e+04]\n",
      " [ 9.47895597e+03]\n",
      " [ 7.00881461e+03]\n",
      " [ 6.27488525e+03]\n",
      " [ 5.88904477e+03]\n",
      " [ 4.11061305e+03]\n",
      " [ 1.39019994e+04]\n",
      " [ 4.47973591e+03]\n",
      " [ 2.37071310e+04]\n",
      " [ 2.76207949e+04]\n",
      " [ 8.83378236e+03]\n",
      " [ 2.53835985e+04]\n",
      " [ 9.68684805e+03]\n",
      " [ 2.99085353e+04]\n",
      " [ 6.91525380e+03]\n",
      " [ 8.27189840e+03]\n",
      " [ 2.09418793e+03]\n",
      " [ 3.06441409e+03]\n",
      " [ 1.27682409e+04]\n",
      " [ 2.60288430e+04]\n",
      " [ 1.17427810e+04]\n",
      " [ 3.51537165e+03]\n",
      " [ 5.47963296e+03]\n",
      " [ 3.69794129e+04]\n",
      " [ 1.11185950e+04]\n",
      " [ 1.34692712e+04]\n",
      " [ 5.62929005e+03]\n",
      " [ 5.79409819e+03]\n",
      " [ 1.04778788e+04]\n",
      " [ 8.65941270e+03]\n",
      " [ 3.60820948e+04]\n",
      " [ 2.98910985e+03]\n",
      " [ 4.04808869e+03]\n",
      " [ 1.19469494e+04]\n",
      " [ 2.82438898e+04]\n",
      " [ 2.68466565e+04]\n",
      " [ 1.09048738e+04]\n",
      " [ 5.50218716e+03]\n",
      " [ 2.98365611e+04]\n",
      " [ 1.23012394e+04]\n",
      " [ 1.44174315e+04]\n",
      " [ 1.17104323e+04]\n",
      " [ 5.68021829e+03]\n",
      " [ 2.03605491e+03]\n",
      " [ 9.86437221e+03]\n",
      " [ 1.28100039e+04]\n",
      " [ 7.43292824e+03]\n",
      " [ 7.75750798e+03]\n",
      " [ 1.18139106e+04]\n",
      " [ 9.66216387e+03]\n",
      " [ 3.86657993e+03]\n",
      " [ 1.19013271e+04]\n",
      " [ 7.44331942e+03]\n",
      " [ 1.40356131e+04]\n",
      " [ 4.30471908e+03]\n",
      " [ 7.95741207e+03]\n",
      " [ 2.87033362e+04]\n",
      " [ 3.14209918e+04]\n",
      " [ 1.34931932e+04]\n",
      " [ 3.36059632e+04]\n",
      " [ 1.11100850e+03]\n",
      " [ 1.00853306e+04]\n",
      " [ 8.20645864e+03]\n",
      " [ 2.32264175e+04]\n",
      " [ 9.21232582e+03]\n",
      " [ 2.92576495e+04]\n",
      " [ 1.26537129e+04]\n",
      " [ 3.87765408e+04]\n",
      " [ 1.37193169e+04]\n",
      " [ 5.47848757e+01]\n",
      " [ 7.26582238e+03]\n",
      " [ 4.43863008e+03]\n",
      " [ 2.72192543e+04]\n",
      " [ 3.47116064e+04]\n",
      " [ 3.84477614e+04]\n",
      " [ 3.15165586e+03]\n",
      " [ 2.95694423e+03]\n",
      " [ 9.70424388e+03]\n",
      " [ 1.35285377e+03]\n",
      " [ 1.25631381e+04]\n",
      " [ 9.72344352e+03]\n",
      " [ 1.24508317e+04]\n",
      " [ 3.84013160e+04]\n",
      " [ 1.23584356e+04]\n",
      " [ 7.00160151e+03]\n",
      " [ 2.70052025e+04]\n",
      " [ 1.28822727e+04]\n",
      " [ 2.68278193e+04]\n",
      " [ 6.79834161e+03]\n",
      " [ 7.26629652e+03]\n",
      " [ 1.45063899e+04]\n",
      " [ 2.72890258e+04]\n",
      " [ 3.55655106e+03]\n",
      " [ 7.03604903e+03]\n",
      " [ 3.69753617e+02]\n",
      " [ 1.71430185e+04]\n",
      " [ 1.71105495e+04]\n",
      " [ 9.20061900e+03]\n",
      " [ 3.60254208e+03]\n",
      " [ 6.13089045e+03]\n",
      " [ 2.79009869e+04]\n",
      " [ 9.70980240e+03]\n",
      " [ 1.10742314e+04]\n",
      " [ 5.33890352e+03]\n",
      " [ 1.57256914e+04]\n",
      " [ 3.39773475e+04]\n",
      " [ 3.32535233e+04]\n",
      " [ 9.11079450e+03]\n",
      " [ 9.76873703e+03]\n",
      " [ 1.29988373e+04]\n",
      " [ 8.19385305e+03]\n",
      " [ 1.13658110e+04]\n",
      " [ 1.02772935e+04]\n",
      " [ 1.49459055e+04]\n",
      " [ 3.43217708e+03]\n",
      " [ 3.52365782e+03]\n",
      " [ 3.21121809e+04]\n",
      " [ 1.16768933e+04]\n",
      " [ 9.75215907e+03]\n",
      " [ 8.45605937e+03]\n",
      " [ 1.70400993e+04]\n",
      " [ 1.19292922e+04]\n",
      " [ 4.72732106e+03]\n",
      " [ 3.10299185e+04]\n",
      " [ 1.55297172e+04]\n",
      " [ 1.27983562e+04]\n",
      " [ 1.19252179e+04]\n",
      " [ 3.30605013e+04]\n",
      " [ 5.67345053e+03]\n",
      " [ 3.95766659e+04]\n",
      " [ 8.81863519e+03]\n",
      " [ 5.90735036e+03]\n",
      " [ 1.02034079e+04]\n",
      " [ 4.93159017e+03]\n",
      " [ 2.50277296e+04]]\n"
     ]
    }
   ],
   "source": [
    "y_pred = reg.predict(X_test)\n",
    "print(y_pred)"
   ]
  },
  {
   "cell_type": "code",
   "execution_count": 80,
   "id": "c121a4b2",
   "metadata": {},
   "outputs": [
    {
     "name": "stdout",
     "output_type": "stream",
     "text": [
      "[[   255.63131194    342.72815963    451.85426636     41.84639718\n",
      "     -41.84639718 -11750.05386047  11750.05386047    620.07154166\n",
      "     200.59736025   -414.4915245    -406.17737741]]\n",
      "[-743.40545526]\n"
     ]
    }
   ],
   "source": [
    "print(reg.coef_)\n",
    "print(reg.intercept_)"
   ]
  },
  {
   "cell_type": "code",
   "execution_count": 81,
   "id": "6faf2541",
   "metadata": {},
   "outputs": [
    {
     "name": "stdout",
     "output_type": "stream",
     "text": [
      "80.02060106002047\n"
     ]
    }
   ],
   "source": [
    "train_1_score = reg.score(X_test,Y_test) * 100\n",
    "print(train_1_score)"
   ]
  },
  {
   "cell_type": "markdown",
   "id": "38379a99",
   "metadata": {},
   "source": [
    "# TRAINING 2"
   ]
  },
  {
   "cell_type": "code",
   "execution_count": 82,
   "id": "5b38f1e3",
   "metadata": {},
   "outputs": [],
   "source": [
    "from sklearn.preprocessing import StandardScaler\n",
    "sc = StandardScaler()\n",
    "sc.fit(X_train)\n",
    "X_scaler_train = sc.transform(X_train)\n",
    "#print(X_scaler_train.shape)\n",
    "X_scaler_test = sc.transform(X_test)\n",
    "sc = StandardScaler()\n",
    "sc.fit(Y_train)\n",
    "Y_scaler_train = sc.transform(Y_train)\n",
    "Y_scaler_test = sc.fit_transform(Y_test)"
   ]
  },
  {
   "cell_type": "code",
   "execution_count": 83,
   "id": "4dec9104",
   "metadata": {},
   "outputs": [
    {
     "data": {
      "text/html": [
       "<style>#sk-container-id-4 {color: black;background-color: white;}#sk-container-id-4 pre{padding: 0;}#sk-container-id-4 div.sk-toggleable {background-color: white;}#sk-container-id-4 label.sk-toggleable__label {cursor: pointer;display: block;width: 100%;margin-bottom: 0;padding: 0.3em;box-sizing: border-box;text-align: center;}#sk-container-id-4 label.sk-toggleable__label-arrow:before {content: \"▸\";float: left;margin-right: 0.25em;color: #696969;}#sk-container-id-4 label.sk-toggleable__label-arrow:hover:before {color: black;}#sk-container-id-4 div.sk-estimator:hover label.sk-toggleable__label-arrow:before {color: black;}#sk-container-id-4 div.sk-toggleable__content {max-height: 0;max-width: 0;overflow: hidden;text-align: left;background-color: #f0f8ff;}#sk-container-id-4 div.sk-toggleable__content pre {margin: 0.2em;color: black;border-radius: 0.25em;background-color: #f0f8ff;}#sk-container-id-4 input.sk-toggleable__control:checked~div.sk-toggleable__content {max-height: 200px;max-width: 100%;overflow: auto;}#sk-container-id-4 input.sk-toggleable__control:checked~label.sk-toggleable__label-arrow:before {content: \"▾\";}#sk-container-id-4 div.sk-estimator input.sk-toggleable__control:checked~label.sk-toggleable__label {background-color: #d4ebff;}#sk-container-id-4 div.sk-label input.sk-toggleable__control:checked~label.sk-toggleable__label {background-color: #d4ebff;}#sk-container-id-4 input.sk-hidden--visually {border: 0;clip: rect(1px 1px 1px 1px);clip: rect(1px, 1px, 1px, 1px);height: 1px;margin: -1px;overflow: hidden;padding: 0;position: absolute;width: 1px;}#sk-container-id-4 div.sk-estimator {font-family: monospace;background-color: #f0f8ff;border: 1px dotted black;border-radius: 0.25em;box-sizing: border-box;margin-bottom: 0.5em;}#sk-container-id-4 div.sk-estimator:hover {background-color: #d4ebff;}#sk-container-id-4 div.sk-parallel-item::after {content: \"\";width: 100%;border-bottom: 1px solid gray;flex-grow: 1;}#sk-container-id-4 div.sk-label:hover label.sk-toggleable__label {background-color: #d4ebff;}#sk-container-id-4 div.sk-serial::before {content: \"\";position: absolute;border-left: 1px solid gray;box-sizing: border-box;top: 0;bottom: 0;left: 50%;z-index: 0;}#sk-container-id-4 div.sk-serial {display: flex;flex-direction: column;align-items: center;background-color: white;padding-right: 0.2em;padding-left: 0.2em;position: relative;}#sk-container-id-4 div.sk-item {position: relative;z-index: 1;}#sk-container-id-4 div.sk-parallel {display: flex;align-items: stretch;justify-content: center;background-color: white;position: relative;}#sk-container-id-4 div.sk-item::before, #sk-container-id-4 div.sk-parallel-item::before {content: \"\";position: absolute;border-left: 1px solid gray;box-sizing: border-box;top: 0;bottom: 0;left: 50%;z-index: -1;}#sk-container-id-4 div.sk-parallel-item {display: flex;flex-direction: column;z-index: 1;position: relative;background-color: white;}#sk-container-id-4 div.sk-parallel-item:first-child::after {align-self: flex-end;width: 50%;}#sk-container-id-4 div.sk-parallel-item:last-child::after {align-self: flex-start;width: 50%;}#sk-container-id-4 div.sk-parallel-item:only-child::after {width: 0;}#sk-container-id-4 div.sk-dashed-wrapped {border: 1px dashed gray;margin: 0 0.4em 0.5em 0.4em;box-sizing: border-box;padding-bottom: 0.4em;background-color: white;}#sk-container-id-4 div.sk-label label {font-family: monospace;font-weight: bold;display: inline-block;line-height: 1.2em;}#sk-container-id-4 div.sk-label-container {text-align: center;}#sk-container-id-4 div.sk-container {/* jupyter's `normalize.less` sets `[hidden] { display: none; }` but bootstrap.min.css set `[hidden] { display: none !important; }` so we also need the `!important` here to be able to override the default hidden behavior on the sphinx rendered scikit-learn.org. See: https://github.com/scikit-learn/scikit-learn/issues/21755 */display: inline-block !important;position: relative;}#sk-container-id-4 div.sk-text-repr-fallback {display: none;}</style><div id=\"sk-container-id-4\" class=\"sk-top-container\"><div class=\"sk-text-repr-fallback\"><pre>LinearRegression()</pre><b>In a Jupyter environment, please rerun this cell to show the HTML representation or trust the notebook. <br />On GitHub, the HTML representation is unable to render, please try loading this page with nbviewer.org.</b></div><div class=\"sk-container\" hidden><div class=\"sk-item\"><div class=\"sk-estimator sk-toggleable\"><input class=\"sk-toggleable__control sk-hidden--visually\" id=\"sk-estimator-id-4\" type=\"checkbox\" checked><label for=\"sk-estimator-id-4\" class=\"sk-toggleable__label sk-toggleable__label-arrow\">LinearRegression</label><div class=\"sk-toggleable__content\"><pre>LinearRegression()</pre></div></div></div></div></div>"
      ],
      "text/plain": [
       "LinearRegression()"
      ]
     },
     "execution_count": 83,
     "metadata": {},
     "output_type": "execute_result"
    }
   ],
   "source": [
    "reg = LinearRegression()\n",
    "reg.fit(X_scaler_train,Y_scaler_train)"
   ]
  },
  {
   "cell_type": "code",
   "execution_count": 84,
   "id": "ed1011f6",
   "metadata": {},
   "outputs": [
    {
     "name": "stdout",
     "output_type": "stream",
     "text": [
      "[[ 0.16686629]\n",
      " [-0.30641372]\n",
      " [ 1.25573138]\n",
      " [-0.65335806]\n",
      " [-0.16556126]\n",
      " [-0.18717883]\n",
      " [-0.86136675]\n",
      " [-0.89871182]\n",
      " [-0.74188337]\n",
      " [-0.3646872 ]\n",
      " [-0.37087153]\n",
      " [ 0.02835355]\n",
      " [ 0.02010758]\n",
      " [ 1.37023437]\n",
      " [ 0.04165802]\n",
      " [ 1.46588011]\n",
      " [ 0.16585156]\n",
      " [-0.94745619]\n",
      " [ 1.68970183]\n",
      " [ 1.93668314]\n",
      " [ 1.67348482]\n",
      " [ 2.28390522]\n",
      " [-0.83271556]\n",
      " [-0.24991468]\n",
      " [-1.09892683]\n",
      " [-0.30296943]\n",
      " [ 0.23850865]\n",
      " [-0.53654808]\n",
      " [ 0.11860486]\n",
      " [-1.1359917 ]\n",
      " [-0.31954434]\n",
      " [ 0.27233577]\n",
      " [-0.64256476]\n",
      " [-0.76890371]\n",
      " [-0.54175131]\n",
      " [-0.1353774 ]\n",
      " [ 0.38431773]\n",
      " [-0.53018212]\n",
      " [-0.26749334]\n",
      " [-0.13893116]\n",
      " [-0.50852065]\n",
      " [-0.45621059]\n",
      " [-0.64504935]\n",
      " [ 1.53675195]\n",
      " [-0.48856174]\n",
      " [-0.91455633]\n",
      " [-0.00494192]\n",
      " [ 0.05518172]\n",
      " [ 0.11314494]\n",
      " [-0.33898872]\n",
      " [-0.03469317]\n",
      " [-0.19277301]\n",
      " [ 1.17079146]\n",
      " [-0.14176132]\n",
      " [ 0.09807664]\n",
      " [-0.55895832]\n",
      " [ 1.5446082 ]\n",
      " [ 1.22051096]\n",
      " [ 2.08211169]\n",
      " [-0.57056686]\n",
      " [ 0.2553916 ]\n",
      " [-0.32401943]\n",
      " [ 2.0469299 ]\n",
      " [ 1.2314261 ]\n",
      " [-0.95176561]\n",
      " [-0.74435159]\n",
      " [ 0.38761185]\n",
      " [-0.64252388]\n",
      " [ 0.20362773]\n",
      " [ 0.13983272]\n",
      " [-0.20033702]\n",
      " [-0.15445602]\n",
      " [ 0.25591121]\n",
      " [ 0.28118278]\n",
      " [-0.14139556]\n",
      " [ 1.53402693]\n",
      " [-0.77181141]\n",
      " [ 0.09062108]\n",
      " [-0.65108786]\n",
      " [ 1.45325709]\n",
      " [-0.91182542]\n",
      " [ 1.4742629 ]\n",
      " [ 1.22579894]\n",
      " [ 0.15787817]\n",
      " [-0.87852736]\n",
      " [ 0.26100778]\n",
      " [ 1.28502878]\n",
      " [ 0.00763182]\n",
      " [-0.21462331]\n",
      " [ 2.14728854]\n",
      " [-0.27551037]\n",
      " [-0.3485238 ]\n",
      " [-0.37596373]\n",
      " [-0.56206059]\n",
      " [-1.0994508 ]\n",
      " [-0.86489317]\n",
      " [-0.56070076]\n",
      " [-0.40171585]\n",
      " [-0.74743462]\n",
      " [-0.79320008]\n",
      " [-0.15432459]\n",
      " [-0.35308455]\n",
      " [ 0.00887069]\n",
      " [-0.54887611]\n",
      " [-0.47432674]\n",
      " [-0.8100738 ]\n",
      " [ 1.1877604 ]\n",
      " [-0.42674651]\n",
      " [ 0.0031001 ]\n",
      " [-0.3828631 ]\n",
      " [-0.70287574]\n",
      " [ 1.96138302]\n",
      " [ 1.49473297]\n",
      " [ 0.02443327]\n",
      " [ 1.48304605]\n",
      " [ 0.00343498]\n",
      " [-0.43922252]\n",
      " [-0.30074012]\n",
      " [-0.01850443]\n",
      " [-0.47158489]\n",
      " [ 2.04698038]\n",
      " [ 1.11298551]\n",
      " [-0.65734668]\n",
      " [-0.15003639]\n",
      " [-0.63105216]\n",
      " [-0.75189949]\n",
      " [ 1.63994913]\n",
      " [-0.4655277 ]\n",
      " [ 2.0043652 ]\n",
      " [ 1.93749074]\n",
      " [-0.71112168]\n",
      " [-0.57047961]\n",
      " [-1.11668133]\n",
      " [ 0.08698592]\n",
      " [-0.3082102 ]\n",
      " [-0.5134018 ]\n",
      " [-0.5743684 ]\n",
      " [-0.6064197 ]\n",
      " [-0.75415183]\n",
      " [ 0.05920656]\n",
      " [-0.72348924]\n",
      " [ 0.87370675]\n",
      " [ 1.19880999]\n",
      " [-0.36180398]\n",
      " [ 1.01296884]\n",
      " [-0.29094086]\n",
      " [ 1.38884976]\n",
      " [-0.52117378]\n",
      " [-0.40847898]\n",
      " [-0.92165377]\n",
      " [-0.84105828]\n",
      " [-0.03497336]\n",
      " [ 1.06656851]\n",
      " [-0.12015705]\n",
      " [-0.80359779]\n",
      " [-0.64042903]\n",
      " [ 1.97621884]\n",
      " [-0.17200741]\n",
      " [ 0.02326037]\n",
      " [-0.6279972 ]\n",
      " [-0.61430679]\n",
      " [-0.22523091]\n",
      " [-0.37628865]\n",
      " [ 1.90167973]\n",
      " [-0.84731371]\n",
      " [-0.75934565]\n",
      " [-0.10319703]\n",
      " [ 1.25056971]\n",
      " [ 1.13450326]\n",
      " [-0.18976096]\n",
      " [-0.63855548]\n",
      " [ 1.38287095]\n",
      " [-0.07376659]\n",
      " [ 0.10202287]\n",
      " [-0.12284421]\n",
      " [-0.62376665]\n",
      " [-0.92648281]\n",
      " [-0.27619415]\n",
      " [-0.03150416]\n",
      " [-0.4781712 ]\n",
      " [-0.45120876]\n",
      " [-0.1142484 ]\n",
      " [-0.29299135]\n",
      " [-0.77442336]\n",
      " [-0.10698682]\n",
      " [-0.47730802]\n",
      " [ 0.07030568]\n",
      " [-0.73802768]\n",
      " [-0.43460298]\n",
      " [ 1.28873536]\n",
      " [ 1.51448765]\n",
      " [ 0.02524754]\n",
      " [ 1.69599053]\n",
      " [-1.00332528]\n",
      " [-0.25783941]\n",
      " [-0.41391498]\n",
      " [ 0.83377448]\n",
      " [-0.33035884]\n",
      " [ 1.33478148]\n",
      " [-0.04448705]\n",
      " [ 2.12550404]\n",
      " [ 0.04403135]\n",
      " [-1.09106447]\n",
      " [-0.49205248]\n",
      " [-0.72690386]\n",
      " [ 1.1654545 ]\n",
      " [ 1.78783495]\n",
      " [ 2.09819274]\n",
      " [-0.83381122]\n",
      " [-0.84998567]\n",
      " [-0.28949581]\n",
      " [-0.98323549]\n",
      " [-0.052011  ]\n",
      " [-0.28790092]\n",
      " [-0.06134015]\n",
      " [ 2.09433458]\n",
      " [-0.06901538]\n",
      " [-0.51400098]\n",
      " [ 1.14767349]\n",
      " [-0.02550087]\n",
      " [ 1.13293848]\n",
      " [-0.53088553]\n",
      " [-0.49201309]\n",
      " [ 0.10941254]\n",
      " [ 1.17125034]\n",
      " [-0.80017707]\n",
      " [-0.51113947]\n",
      " [-1.0649004 ]\n",
      " [ 0.32843402]\n",
      " [ 0.32573686]\n",
      " [-0.33133131]\n",
      " [-0.79635665]\n",
      " [-0.58632987]\n",
      " [ 1.22208519]\n",
      " [-0.28903407]\n",
      " [-0.17569264]\n",
      " [-0.65211925]\n",
      " [ 0.21069841]\n",
      " [ 1.72684097]\n",
      " [ 1.66671379]\n",
      " [-0.33879292]\n",
      " [-0.28413844]\n",
      " [-0.01581799]\n",
      " [-0.41496211]\n",
      " [-0.15147148]\n",
      " [-0.24189328]\n",
      " [ 0.14592256]\n",
      " [-0.81050866]\n",
      " [-0.80290947]\n",
      " [ 1.57190388]\n",
      " [-0.12563025]\n",
      " [-0.28551555]\n",
      " [-0.39318096]\n",
      " [ 0.31988465]\n",
      " [-0.10466379]\n",
      " [-0.70292265]\n",
      " [ 1.48200168]\n",
      " [ 0.19441907]\n",
      " [-0.03247172]\n",
      " [-0.10500224]\n",
      " [ 1.65067969]\n",
      " [-0.62432884]\n",
      " [ 2.19196944]\n",
      " [-0.36306223]\n",
      " [-0.60489907]\n",
      " [-0.24803087]\n",
      " [-0.68595427]\n",
      " [ 0.98340725]]\n"
     ]
    }
   ],
   "source": [
    "y_pred = reg.predict(X_scaler_test)\n",
    "print(y_pred)"
   ]
  },
  {
   "cell_type": "code",
   "execution_count": 85,
   "id": "79616195",
   "metadata": {},
   "outputs": [
    {
     "name": "stdout",
     "output_type": "stream",
     "text": [
      "79.91332602444332\n"
     ]
    }
   ],
   "source": [
    "train_2_score = reg.score(X_scaler_test,Y_scaler_test) * 100\n",
    "print(train_2_score)"
   ]
  },
  {
   "cell_type": "markdown",
   "id": "2769c328",
   "metadata": {},
   "source": [
    "# TRAINING 3"
   ]
  },
  {
   "cell_type": "code",
   "execution_count": 86,
   "id": "6b08e452",
   "metadata": {},
   "outputs": [
    {
     "data": {
      "text/html": [
       "<div>\n",
       "<style scoped>\n",
       "    .dataframe tbody tr th:only-of-type {\n",
       "        vertical-align: middle;\n",
       "    }\n",
       "\n",
       "    .dataframe tbody tr th {\n",
       "        vertical-align: top;\n",
       "    }\n",
       "\n",
       "    .dataframe thead th {\n",
       "        text-align: right;\n",
       "    }\n",
       "</style>\n",
       "<table border=\"1\" class=\"dataframe\">\n",
       "  <thead>\n",
       "    <tr style=\"text-align: right;\">\n",
       "      <th></th>\n",
       "      <th>age</th>\n",
       "      <th>bmi</th>\n",
       "      <th>children</th>\n",
       "      <th>sex_female</th>\n",
       "      <th>sex_male</th>\n",
       "      <th>smoker_no</th>\n",
       "      <th>smoker_yes</th>\n",
       "      <th>region_northeast</th>\n",
       "      <th>region_northwest</th>\n",
       "      <th>region_southeast</th>\n",
       "      <th>region_southwest</th>\n",
       "    </tr>\n",
       "  </thead>\n",
       "  <tbody>\n",
       "    <tr>\n",
       "      <th>67</th>\n",
       "      <td>40</td>\n",
       "      <td>26.3</td>\n",
       "      <td>1</td>\n",
       "      <td>0</td>\n",
       "      <td>1</td>\n",
       "      <td>1</td>\n",
       "      <td>0</td>\n",
       "      <td>0</td>\n",
       "      <td>1</td>\n",
       "      <td>0</td>\n",
       "      <td>0</td>\n",
       "    </tr>\n",
       "    <tr>\n",
       "      <th>736</th>\n",
       "      <td>37</td>\n",
       "      <td>38.4</td>\n",
       "      <td>0</td>\n",
       "      <td>1</td>\n",
       "      <td>0</td>\n",
       "      <td>0</td>\n",
       "      <td>1</td>\n",
       "      <td>0</td>\n",
       "      <td>0</td>\n",
       "      <td>1</td>\n",
       "      <td>0</td>\n",
       "    </tr>\n",
       "    <tr>\n",
       "      <th>310</th>\n",
       "      <td>50</td>\n",
       "      <td>26.6</td>\n",
       "      <td>0</td>\n",
       "      <td>0</td>\n",
       "      <td>1</td>\n",
       "      <td>1</td>\n",
       "      <td>0</td>\n",
       "      <td>0</td>\n",
       "      <td>0</td>\n",
       "      <td>0</td>\n",
       "      <td>1</td>\n",
       "    </tr>\n",
       "    <tr>\n",
       "      <th>963</th>\n",
       "      <td>46</td>\n",
       "      <td>24.8</td>\n",
       "      <td>3</td>\n",
       "      <td>0</td>\n",
       "      <td>1</td>\n",
       "      <td>1</td>\n",
       "      <td>0</td>\n",
       "      <td>1</td>\n",
       "      <td>0</td>\n",
       "      <td>0</td>\n",
       "      <td>0</td>\n",
       "    </tr>\n",
       "    <tr>\n",
       "      <th>680</th>\n",
       "      <td>21</td>\n",
       "      <td>17.4</td>\n",
       "      <td>1</td>\n",
       "      <td>1</td>\n",
       "      <td>0</td>\n",
       "      <td>1</td>\n",
       "      <td>0</td>\n",
       "      <td>0</td>\n",
       "      <td>0</td>\n",
       "      <td>0</td>\n",
       "      <td>1</td>\n",
       "    </tr>\n",
       "    <tr>\n",
       "      <th>...</th>\n",
       "      <td>...</td>\n",
       "      <td>...</td>\n",
       "      <td>...</td>\n",
       "      <td>...</td>\n",
       "      <td>...</td>\n",
       "      <td>...</td>\n",
       "      <td>...</td>\n",
       "      <td>...</td>\n",
       "      <td>...</td>\n",
       "      <td>...</td>\n",
       "      <td>...</td>\n",
       "    </tr>\n",
       "    <tr>\n",
       "      <th>1238</th>\n",
       "      <td>37</td>\n",
       "      <td>22.7</td>\n",
       "      <td>3</td>\n",
       "      <td>0</td>\n",
       "      <td>1</td>\n",
       "      <td>1</td>\n",
       "      <td>0</td>\n",
       "      <td>1</td>\n",
       "      <td>0</td>\n",
       "      <td>0</td>\n",
       "      <td>0</td>\n",
       "    </tr>\n",
       "    <tr>\n",
       "      <th>1147</th>\n",
       "      <td>20</td>\n",
       "      <td>31.9</td>\n",
       "      <td>0</td>\n",
       "      <td>1</td>\n",
       "      <td>0</td>\n",
       "      <td>1</td>\n",
       "      <td>0</td>\n",
       "      <td>0</td>\n",
       "      <td>1</td>\n",
       "      <td>0</td>\n",
       "      <td>0</td>\n",
       "    </tr>\n",
       "    <tr>\n",
       "      <th>106</th>\n",
       "      <td>19</td>\n",
       "      <td>28.4</td>\n",
       "      <td>1</td>\n",
       "      <td>1</td>\n",
       "      <td>0</td>\n",
       "      <td>1</td>\n",
       "      <td>0</td>\n",
       "      <td>0</td>\n",
       "      <td>0</td>\n",
       "      <td>0</td>\n",
       "      <td>1</td>\n",
       "    </tr>\n",
       "    <tr>\n",
       "      <th>1041</th>\n",
       "      <td>18</td>\n",
       "      <td>23.1</td>\n",
       "      <td>0</td>\n",
       "      <td>0</td>\n",
       "      <td>1</td>\n",
       "      <td>1</td>\n",
       "      <td>0</td>\n",
       "      <td>1</td>\n",
       "      <td>0</td>\n",
       "      <td>0</td>\n",
       "      <td>0</td>\n",
       "    </tr>\n",
       "    <tr>\n",
       "      <th>1122</th>\n",
       "      <td>53</td>\n",
       "      <td>36.9</td>\n",
       "      <td>3</td>\n",
       "      <td>1</td>\n",
       "      <td>0</td>\n",
       "      <td>0</td>\n",
       "      <td>1</td>\n",
       "      <td>0</td>\n",
       "      <td>1</td>\n",
       "      <td>0</td>\n",
       "      <td>0</td>\n",
       "    </tr>\n",
       "  </tbody>\n",
       "</table>\n",
       "<p>1070 rows × 11 columns</p>\n",
       "</div>"
      ],
      "text/plain": [
       "      age   bmi  children  sex_female  sex_male  smoker_no  smoker_yes  \\\n",
       "67     40  26.3         1           0         1          1           0   \n",
       "736    37  38.4         0           1         0          0           1   \n",
       "310    50  26.6         0           0         1          1           0   \n",
       "963    46  24.8         3           0         1          1           0   \n",
       "680    21  17.4         1           1         0          1           0   \n",
       "...   ...   ...       ...         ...       ...        ...         ...   \n",
       "1238   37  22.7         3           0         1          1           0   \n",
       "1147   20  31.9         0           1         0          1           0   \n",
       "106    19  28.4         1           1         0          1           0   \n",
       "1041   18  23.1         0           0         1          1           0   \n",
       "1122   53  36.9         3           1         0          0           1   \n",
       "\n",
       "      region_northeast  region_northwest  region_southeast  region_southwest  \n",
       "67                   0                 1                 0                 0  \n",
       "736                  0                 0                 1                 0  \n",
       "310                  0                 0                 0                 1  \n",
       "963                  1                 0                 0                 0  \n",
       "680                  0                 0                 0                 1  \n",
       "...                ...               ...               ...               ...  \n",
       "1238                 1                 0                 0                 0  \n",
       "1147                 0                 1                 0                 0  \n",
       "106                  0                 0                 0                 1  \n",
       "1041                 1                 0                 0                 0  \n",
       "1122                 0                 1                 0                 0  \n",
       "\n",
       "[1070 rows x 11 columns]"
      ]
     },
     "execution_count": 86,
     "metadata": {},
     "output_type": "execute_result"
    }
   ],
   "source": [
    "X_train"
   ]
  },
  {
   "cell_type": "code",
   "execution_count": 87,
   "id": "27af1832",
   "metadata": {},
   "outputs": [
    {
     "data": {
      "text/plain": [
       "count    1070.000000\n",
       "mean       39.124299\n",
       "std        14.114475\n",
       "min        18.000000\n",
       "25%        26.000000\n",
       "50%        39.000000\n",
       "75%        51.000000\n",
       "max        64.000000\n",
       "Name: age, dtype: float64"
      ]
     },
     "execution_count": 87,
     "metadata": {},
     "output_type": "execute_result"
    }
   ],
   "source": [
    "X_train['age'].describe()"
   ]
  },
  {
   "cell_type": "code",
   "execution_count": 88,
   "id": "47b55e5f",
   "metadata": {},
   "outputs": [
    {
     "data": {
      "text/plain": [
       "count    268.000000\n",
       "mean      39.537313\n",
       "std       13.810465\n",
       "min       18.000000\n",
       "25%       27.000000\n",
       "50%       39.000000\n",
       "75%       51.000000\n",
       "max       64.000000\n",
       "Name: age, dtype: float64"
      ]
     },
     "execution_count": 88,
     "metadata": {},
     "output_type": "execute_result"
    }
   ],
   "source": [
    "X_test['age'].describe()"
   ]
  },
  {
   "cell_type": "code",
   "execution_count": 89,
   "id": "608568e0",
   "metadata": {},
   "outputs": [
    {
     "data": {
      "text/plain": [
       "count    1070.000000\n",
       "mean       30.646916\n",
       "std         6.021244\n",
       "min        16.000000\n",
       "25%        26.400000\n",
       "50%        30.300000\n",
       "75%        34.575000\n",
       "max        53.100000\n",
       "Name: bmi, dtype: float64"
      ]
     },
     "execution_count": 89,
     "metadata": {},
     "output_type": "execute_result"
    }
   ],
   "source": [
    "X_train['bmi'].describe()"
   ]
  },
  {
   "cell_type": "code",
   "execution_count": 90,
   "id": "b9179e9a",
   "metadata": {},
   "outputs": [
    {
     "data": {
      "text/plain": [
       "count    268.000000\n",
       "mean      30.739552\n",
       "std        6.408252\n",
       "min       16.800000\n",
       "25%       25.700000\n",
       "50%       30.750000\n",
       "75%       34.800000\n",
       "max       47.700000\n",
       "Name: bmi, dtype: float64"
      ]
     },
     "execution_count": 90,
     "metadata": {},
     "output_type": "execute_result"
    }
   ],
   "source": [
    "X_test['bmi'].describe()"
   ]
  },
  {
   "cell_type": "code",
   "execution_count": 91,
   "id": "66e63756",
   "metadata": {},
   "outputs": [
    {
     "data": {
      "text/plain": [
       "1    541\n",
       "0    529\n",
       "Name: sex_male, dtype: int64"
      ]
     },
     "execution_count": 91,
     "metadata": {},
     "output_type": "execute_result"
    }
   ],
   "source": [
    "X_train['sex_male'].value_counts()"
   ]
  },
  {
   "cell_type": "code",
   "execution_count": 92,
   "id": "153a3647",
   "metadata": {},
   "outputs": [
    {
     "data": {
      "text/plain": [
       "1    135\n",
       "0    133\n",
       "Name: sex_male, dtype: int64"
      ]
     },
     "execution_count": 92,
     "metadata": {},
     "output_type": "execute_result"
    }
   ],
   "source": [
    "X_test['sex_male'].value_counts()"
   ]
  },
  {
   "cell_type": "code",
   "execution_count": 94,
   "id": "27571116",
   "metadata": {},
   "outputs": [
    {
     "data": {
      "text/html": [
       "<div>\n",
       "<style scoped>\n",
       "    .dataframe tbody tr th:only-of-type {\n",
       "        vertical-align: middle;\n",
       "    }\n",
       "\n",
       "    .dataframe tbody tr th {\n",
       "        vertical-align: top;\n",
       "    }\n",
       "\n",
       "    .dataframe thead th {\n",
       "        text-align: right;\n",
       "    }\n",
       "</style>\n",
       "<table border=\"1\" class=\"dataframe\">\n",
       "  <thead>\n",
       "    <tr style=\"text-align: right;\">\n",
       "      <th></th>\n",
       "      <th>age</th>\n",
       "      <th>bmi</th>\n",
       "      <th>children</th>\n",
       "      <th>sex_female</th>\n",
       "      <th>sex_male</th>\n",
       "      <th>smoker_no</th>\n",
       "      <th>smoker_yes</th>\n",
       "      <th>region_northeast</th>\n",
       "      <th>region_northwest</th>\n",
       "      <th>region_southeast</th>\n",
       "      <th>region_southwest</th>\n",
       "    </tr>\n",
       "  </thead>\n",
       "  <tbody>\n",
       "    <tr>\n",
       "      <th>0</th>\n",
       "      <td>19</td>\n",
       "      <td>27.9</td>\n",
       "      <td>0</td>\n",
       "      <td>1</td>\n",
       "      <td>0</td>\n",
       "      <td>0</td>\n",
       "      <td>1</td>\n",
       "      <td>0</td>\n",
       "      <td>0</td>\n",
       "      <td>0</td>\n",
       "      <td>1</td>\n",
       "    </tr>\n",
       "    <tr>\n",
       "      <th>1</th>\n",
       "      <td>18</td>\n",
       "      <td>33.8</td>\n",
       "      <td>1</td>\n",
       "      <td>0</td>\n",
       "      <td>1</td>\n",
       "      <td>1</td>\n",
       "      <td>0</td>\n",
       "      <td>0</td>\n",
       "      <td>0</td>\n",
       "      <td>1</td>\n",
       "      <td>0</td>\n",
       "    </tr>\n",
       "    <tr>\n",
       "      <th>2</th>\n",
       "      <td>28</td>\n",
       "      <td>33.0</td>\n",
       "      <td>3</td>\n",
       "      <td>0</td>\n",
       "      <td>1</td>\n",
       "      <td>1</td>\n",
       "      <td>0</td>\n",
       "      <td>0</td>\n",
       "      <td>0</td>\n",
       "      <td>1</td>\n",
       "      <td>0</td>\n",
       "    </tr>\n",
       "    <tr>\n",
       "      <th>3</th>\n",
       "      <td>33</td>\n",
       "      <td>22.7</td>\n",
       "      <td>0</td>\n",
       "      <td>0</td>\n",
       "      <td>1</td>\n",
       "      <td>1</td>\n",
       "      <td>0</td>\n",
       "      <td>0</td>\n",
       "      <td>1</td>\n",
       "      <td>0</td>\n",
       "      <td>0</td>\n",
       "    </tr>\n",
       "    <tr>\n",
       "      <th>4</th>\n",
       "      <td>32</td>\n",
       "      <td>28.9</td>\n",
       "      <td>0</td>\n",
       "      <td>0</td>\n",
       "      <td>1</td>\n",
       "      <td>1</td>\n",
       "      <td>0</td>\n",
       "      <td>0</td>\n",
       "      <td>1</td>\n",
       "      <td>0</td>\n",
       "      <td>0</td>\n",
       "    </tr>\n",
       "    <tr>\n",
       "      <th>...</th>\n",
       "      <td>...</td>\n",
       "      <td>...</td>\n",
       "      <td>...</td>\n",
       "      <td>...</td>\n",
       "      <td>...</td>\n",
       "      <td>...</td>\n",
       "      <td>...</td>\n",
       "      <td>...</td>\n",
       "      <td>...</td>\n",
       "      <td>...</td>\n",
       "      <td>...</td>\n",
       "    </tr>\n",
       "    <tr>\n",
       "      <th>1333</th>\n",
       "      <td>50</td>\n",
       "      <td>31.0</td>\n",
       "      <td>3</td>\n",
       "      <td>0</td>\n",
       "      <td>1</td>\n",
       "      <td>1</td>\n",
       "      <td>0</td>\n",
       "      <td>0</td>\n",
       "      <td>1</td>\n",
       "      <td>0</td>\n",
       "      <td>0</td>\n",
       "    </tr>\n",
       "    <tr>\n",
       "      <th>1334</th>\n",
       "      <td>18</td>\n",
       "      <td>31.9</td>\n",
       "      <td>0</td>\n",
       "      <td>1</td>\n",
       "      <td>0</td>\n",
       "      <td>1</td>\n",
       "      <td>0</td>\n",
       "      <td>1</td>\n",
       "      <td>0</td>\n",
       "      <td>0</td>\n",
       "      <td>0</td>\n",
       "    </tr>\n",
       "    <tr>\n",
       "      <th>1335</th>\n",
       "      <td>18</td>\n",
       "      <td>36.9</td>\n",
       "      <td>0</td>\n",
       "      <td>1</td>\n",
       "      <td>0</td>\n",
       "      <td>1</td>\n",
       "      <td>0</td>\n",
       "      <td>0</td>\n",
       "      <td>0</td>\n",
       "      <td>1</td>\n",
       "      <td>0</td>\n",
       "    </tr>\n",
       "    <tr>\n",
       "      <th>1336</th>\n",
       "      <td>21</td>\n",
       "      <td>25.8</td>\n",
       "      <td>0</td>\n",
       "      <td>1</td>\n",
       "      <td>0</td>\n",
       "      <td>1</td>\n",
       "      <td>0</td>\n",
       "      <td>0</td>\n",
       "      <td>0</td>\n",
       "      <td>0</td>\n",
       "      <td>1</td>\n",
       "    </tr>\n",
       "    <tr>\n",
       "      <th>1337</th>\n",
       "      <td>61</td>\n",
       "      <td>29.1</td>\n",
       "      <td>0</td>\n",
       "      <td>1</td>\n",
       "      <td>0</td>\n",
       "      <td>0</td>\n",
       "      <td>1</td>\n",
       "      <td>0</td>\n",
       "      <td>1</td>\n",
       "      <td>0</td>\n",
       "      <td>0</td>\n",
       "    </tr>\n",
       "  </tbody>\n",
       "</table>\n",
       "<p>1338 rows × 11 columns</p>\n",
       "</div>"
      ],
      "text/plain": [
       "      age   bmi  children  sex_female  sex_male  smoker_no  smoker_yes  \\\n",
       "0      19  27.9         0           1         0          0           1   \n",
       "1      18  33.8         1           0         1          1           0   \n",
       "2      28  33.0         3           0         1          1           0   \n",
       "3      33  22.7         0           0         1          1           0   \n",
       "4      32  28.9         0           0         1          1           0   \n",
       "...   ...   ...       ...         ...       ...        ...         ...   \n",
       "1333   50  31.0         3           0         1          1           0   \n",
       "1334   18  31.9         0           1         0          1           0   \n",
       "1335   18  36.9         0           1         0          1           0   \n",
       "1336   21  25.8         0           1         0          1           0   \n",
       "1337   61  29.1         0           1         0          0           1   \n",
       "\n",
       "      region_northeast  region_northwest  region_southeast  region_southwest  \n",
       "0                    0                 0                 0                 1  \n",
       "1                    0                 0                 1                 0  \n",
       "2                    0                 0                 1                 0  \n",
       "3                    0                 1                 0                 0  \n",
       "4                    0                 1                 0                 0  \n",
       "...                ...               ...               ...               ...  \n",
       "1333                 0                 1                 0                 0  \n",
       "1334                 1                 0                 0                 0  \n",
       "1335                 0                 0                 1                 0  \n",
       "1336                 0                 0                 0                 1  \n",
       "1337                 0                 1                 0                 0  \n",
       "\n",
       "[1338 rows x 11 columns]"
      ]
     },
     "execution_count": 94,
     "metadata": {},
     "output_type": "execute_result"
    }
   ],
   "source": [
    "X"
   ]
  },
  {
   "cell_type": "code",
   "execution_count": 95,
   "id": "124bbf11",
   "metadata": {},
   "outputs": [
    {
     "data": {
      "text/html": [
       "<div>\n",
       "<style scoped>\n",
       "    .dataframe tbody tr th:only-of-type {\n",
       "        vertical-align: middle;\n",
       "    }\n",
       "\n",
       "    .dataframe tbody tr th {\n",
       "        vertical-align: top;\n",
       "    }\n",
       "\n",
       "    .dataframe thead th {\n",
       "        text-align: right;\n",
       "    }\n",
       "</style>\n",
       "<table border=\"1\" class=\"dataframe\">\n",
       "  <thead>\n",
       "    <tr style=\"text-align: right;\">\n",
       "      <th></th>\n",
       "      <th>expenses</th>\n",
       "    </tr>\n",
       "  </thead>\n",
       "  <tbody>\n",
       "    <tr>\n",
       "      <th>0</th>\n",
       "      <td>16884.92</td>\n",
       "    </tr>\n",
       "    <tr>\n",
       "      <th>1</th>\n",
       "      <td>1725.55</td>\n",
       "    </tr>\n",
       "    <tr>\n",
       "      <th>2</th>\n",
       "      <td>4449.46</td>\n",
       "    </tr>\n",
       "    <tr>\n",
       "      <th>3</th>\n",
       "      <td>21984.47</td>\n",
       "    </tr>\n",
       "    <tr>\n",
       "      <th>4</th>\n",
       "      <td>3866.86</td>\n",
       "    </tr>\n",
       "    <tr>\n",
       "      <th>...</th>\n",
       "      <td>...</td>\n",
       "    </tr>\n",
       "    <tr>\n",
       "      <th>1333</th>\n",
       "      <td>10600.55</td>\n",
       "    </tr>\n",
       "    <tr>\n",
       "      <th>1334</th>\n",
       "      <td>2205.98</td>\n",
       "    </tr>\n",
       "    <tr>\n",
       "      <th>1335</th>\n",
       "      <td>1629.83</td>\n",
       "    </tr>\n",
       "    <tr>\n",
       "      <th>1336</th>\n",
       "      <td>2007.95</td>\n",
       "    </tr>\n",
       "    <tr>\n",
       "      <th>1337</th>\n",
       "      <td>29141.36</td>\n",
       "    </tr>\n",
       "  </tbody>\n",
       "</table>\n",
       "<p>1338 rows × 1 columns</p>\n",
       "</div>"
      ],
      "text/plain": [
       "      expenses\n",
       "0     16884.92\n",
       "1      1725.55\n",
       "2      4449.46\n",
       "3     21984.47\n",
       "4      3866.86\n",
       "...        ...\n",
       "1333  10600.55\n",
       "1334   2205.98\n",
       "1335   1629.83\n",
       "1336   2007.95\n",
       "1337  29141.36\n",
       "\n",
       "[1338 rows x 1 columns]"
      ]
     },
     "execution_count": 95,
     "metadata": {},
     "output_type": "execute_result"
    }
   ],
   "source": [
    "Y"
   ]
  }
 ],
 "metadata": {
  "kernelspec": {
   "display_name": "Python 3",
   "language": "python",
   "name": "python3"
  },
  "language_info": {
   "codemirror_mode": {
    "name": "ipython",
    "version": 3
   },
   "file_extension": ".py",
   "mimetype": "text/x-python",
   "name": "python",
   "nbconvert_exporter": "python",
   "pygments_lexer": "ipython3",
   "version": "3.9.12"
  }
 },
 "nbformat": 4,
 "nbformat_minor": 5
}
